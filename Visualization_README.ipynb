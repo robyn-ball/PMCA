{
 "cells": [
  {
   "cell_type": "markdown",
   "metadata": {},
   "source": [
    "# Visualization Addition\n",
    "\n",
    "The following describes the addition of the visualization tool, which also allows export of alternate data structures based on filtering thresholds and k-partite associations.\n",
    "\n",
    "## Setup\n",
    "\n",
    "First, we set up the visualization environment by importing necessary packages and libraries:"
   ]
  },
  {
   "cell_type": "code",
   "execution_count": null,
   "metadata": {},
   "outputs": [],
   "source": [
    "from kpartite import *"
   ]
  },
  {
   "cell_type": "markdown",
   "metadata": {},
   "source": [
    "## Quick Start\n",
    "\n",
    "All of the functionality below has been wrapped in `make_graph()` for simplicity when generating FPR tables using the `extract.fpr.table` function. It expects, as minimum input, 1) a list of doubles containing the FPRs for the desired data, such as `mapped.results`, 2) `focus`, a string for the column of interest, and 3) a FPR `default_threshold` value as a float. \n",
    "\n",
    "There are additional optional parameters, such as the boolean `debug` flag and `apply_threshold` described later in the section \"Load Data\"."
   ]
  },
  {
   "cell_type": "code",
   "execution_count": null,
   "metadata": {},
   "outputs": [
    {
     "ename": "",
     "evalue": "",
     "output_type": "error",
     "traceback": [
      "\u001b[1;31mRunning cells with 'iggi' requires the ipykernel package.\n",
      "\u001b[1;31mRun the following command to install 'ipykernel' into the Python environment. \n",
      "\u001b[1;31mCommand: '/Users/adamsja/Projects/pmca-bipartite/iggi/bin/python -m pip install ipykernel -U --force-reinstall'"
     ]
    }
   ],
   "source": [
    "dataframe_datalist = kpartite.find_data('mapped_results', default_threshold=0.01)"
   ]
  },
  {
   "cell_type": "code",
   "execution_count": null,
   "metadata": {},
   "outputs": [],
   "source": []
  }
 ],
 "metadata": {
  "kernelspec": {
   "display_name": "iggi",
   "language": "python",
   "name": "python3"
  },
  "language_info": {
   "name": "python",
   "version": "3.11.4"
  },
  "orig_nbformat": 4
 },
 "nbformat": 4,
 "nbformat_minor": 2
}
